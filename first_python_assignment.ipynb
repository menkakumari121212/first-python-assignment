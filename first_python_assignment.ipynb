{
  "nbformat": 4,
  "nbformat_minor": 0,
  "metadata": {
    "colab": {
      "provenance": []
    },
    "kernelspec": {
      "name": "python3",
      "display_name": "Python 3"
    },
    "language_info": {
      "name": "python"
    }
  },
  "cells": [
    {
      "cell_type": "code",
      "execution_count": null,
      "metadata": {
        "id": "tdBkhm6ziwi-"
      },
      "outputs": [],
      "source": []
    },
    {
      "cell_type": "markdown",
      "source": [
        "**PYTHON ASSIGNMENT**"
      ],
      "metadata": {
        "id": "CgelJE2MwLOI"
      }
    },
    {
      "cell_type": "markdown",
      "source": [],
      "metadata": {
        "id": "JO74WHlhAs0d"
      }
    },
    {
      "cell_type": "markdown",
      "source": [
        "1.**What is Python, and why is it popular?**\n",
        "\n",
        "Ans:Python is a set of instructions that we give in the form of a Program to our computer to perform any specific task.\n",
        "\n",
        "Python has become one of the most popular programming languages due to several key factors that make it versatile and widely adopted across various domains.\n",
        "\n",
        "* Rich Ecosystem of Libraries and\n",
        "  Frameworks.\n",
        "* Simplicity and Readability.\n",
        "* Versatility and General-Purpose Nature.\n",
        "\n",
        "\n",
        "---\n",
        "\n",
        "\n",
        "2.**What is an interpreter in Python?**\n",
        "\n",
        "Ans:  A Python interpreter is a program that *reads and executes Python code*. Python is an interpreted language, meaning that it executes code line by line, rather than compiling the entire program into machine code before execution.\n",
        "* An Interpreter is a program that converts the code a developer writes into an intermediate language, called the byte code. It converts the code line by line, one at a time. It translates till the end and stops at that line where an error occurs, if any, making the debugging process easy. Python and Java are two examples of the interpreted programming languages.\n",
        "\n",
        "\n",
        "---\n",
        "\n",
        "\n",
        "**3.What are pre-defined keywords in Python?**\n",
        "Ans.\n",
        " Python Keywordsare some predefined and reserved words in Python that have special meanings. Keywords are used to define the syntax of the coding. The keyword cannot be used as an identifier, function, or variable name.\n",
        "\n",
        "\n",
        "---\n",
        "\n",
        "\n",
        "\n",
        " **4.Can keywords be used as variable names?**\n",
        " Ans. No , keywords cant be used as variable names.\n",
        "\n",
        "\n",
        "---\n",
        "\n",
        "\n",
        "5.**What is mutability in Python?**\n",
        "\n",
        "Ans.In Python, mutability refers to the ability of an object to be changed after it is created. Objects in Python can be classified into two categories: mutable and immutable.\n",
        "\n",
        "* Immutable Objects\n",
        "\n",
        "  Immutable objects are those whose state cannot be changed once they are created. Examples of immutable objects include:\n",
        "\n",
        "Numbers (int, float, bool)\n",
        "\n",
        "Strings\n",
        "\n",
        "Tuples\n",
        "\n",
        "Frozen sets\n",
        "\n",
        "* *Mutable Objects*\n",
        "\n",
        "Mutable objects are those whose state can be changed after they are created. Examples of mutable objects include:\n",
        "\n",
        "Lists\n",
        "\n",
        "Dictionaries\n",
        "\n",
        "Sets\n",
        "\n",
        "\n",
        "\n",
        "---\n",
        "\n",
        "\n",
        "6.**Why are lists mutable, but tuples are immutable? **\n",
        "\n",
        "Ans.\n",
        "Lists in Python are mutable. This means that you can change their content without changing their identity. You can add, remove, or modify items in a list after it has been created.\n",
        "EXAMPLE:\n",
        "\n",
        "my_list = [1, 2, 3, 4, 5]\n",
        "my_list[2] = 10\n",
        "print(my_list) # Output: [1, 2, 10, 4, 5]\n",
        "\n",
        "Tuples are immutable in Python.\n",
        "\n",
        "**Maintaining Order** − Tuples are mainly defined in python as a way to show order. For example, when you retrieve data from a database in form of a list of tuples, all the tuples are in the order of the fields you fetched.\n",
        "\n",
        "BENIFIT: MAINTAINING EMPLOYEE ID\n",
        "\n",
        "\n",
        "---\n",
        "\n",
        "\n",
        " 7.** What is the difference between “==” and “is” operators in Python?**\n",
        "\n",
        "Ans.\n",
        "**== Operator**\n",
        "Purpose: The == operator is used to compare the values of two objects to check if they are equal.\n",
        "Example:\n",
        "\n",
        "a = [1, 2, 3]\n",
        "b = [1, 2, 3]\n",
        "print(a == b)\n",
        "\n",
        "Output: True\n",
        "\n",
        "In this example, a and b have the same values, so a == b evaluates to True.\n",
        "\n",
        "\n",
        "**is Operator**\n",
        "\n",
        "Purpose: The is operator is used to compare the identities of two objects to check if they refer to the same object in memory.\n",
        "Example:\n",
        "\n",
        "a = [1, 2, 3]\n",
        "b = [1, 2, 3]\n",
        "print(a is b)\n",
        "\n",
        "Output: False\n",
        "Here, a and b are two different objects in memory, even though they have the same values, so a is b evaluates to False.\n",
        "\n",
        "\n",
        "---\n",
        "\n",
        "\n",
        "\n",
        "8.**What are logical operators in Python?**\n",
        "Ans:\n",
        "**and**: Returns True if both statements are true.\n",
        "\n",
        "\n",
        "a = True\n",
        "b = False\n",
        "result = a and b  # result is False\n",
        "\n",
        "**or**: Returns True if at least one of the statements is true.\n",
        "\n",
        "\n",
        "a = True\n",
        "\n",
        "b = False\n",
        "\n",
        "result = a or b  # result is True\n",
        "\n",
        "\n",
        "\n",
        "**not**: Returns True if the statement is false.\n",
        "\n",
        "\n",
        "a = True\n",
        "result = not a\n",
        "result is False\n",
        "\n",
        "\n",
        "---\n",
        "\n",
        "\n",
        "9.**What is type casting in Python?**\n",
        "\n",
        "Ans.\n",
        "Type casting in Python is the process of converting one data type to another. This can be particularly useful when you need to perform operations that require a specific data type. Here are some common type casting methods in Python:\n",
        "\n",
        "\n",
        "\n",
        "\n",
        "\n",
        "\n"
      ],
      "metadata": {
        "id": "HlzgbepejCnZ"
      }
    },
    {
      "cell_type": "code",
      "source": [
        "from google.colab import drive\n",
        "drive.mount('/content/drive')"
      ],
      "metadata": {
        "id": "Jgj_newctUqj"
      },
      "execution_count": null,
      "outputs": []
    },
    {
      "cell_type": "code",
      "source": [],
      "metadata": {
        "id": "b5lsIHZGArCW"
      },
      "execution_count": null,
      "outputs": []
    },
    {
      "cell_type": "markdown",
      "source": [],
      "metadata": {
        "id": "TEVMUWY4ArzM"
      }
    },
    {
      "cell_type": "markdown",
      "source": [
        "\n",
        "\n",
        "---\n",
        "\n",
        "\n",
        "10.**What is the difference between implicit and explicit type casting?**\n",
        "\n",
        "Ans.\n",
        "\n",
        "**Implicit Type Conversion in Python**\n",
        "In this, method, Python converts the datatype into another datatype automatically. Users don’t have to involve in this process.\n",
        "\n",
        "**Explicit Type Conversion in Python**\n",
        "\n",
        "In this method, Python needs user involvement to convert the variable data type into the required data type.\n",
        "\n",
        "Examples of Type Casting in Python\n",
        "Mainly type casting can be done with these data type functions:\n",
        "\n",
        "Int(): Python Int() function take float or string as an argument and returns int type object.\n",
        "float(): Python float() function take int or string as an argument and return float type object.\n",
        "\n",
        "\n",
        "---\n",
        "\n",
        "\n",
        "11.**What is the purpose of conditional statements in Python?**\n",
        "\n",
        "Ans:\n",
        "Conditional statements in Python are used to execute certain blocks of code based on whether a condition is true or false.\n",
        "\n",
        "They help in making decisions within the code, allowing the program to respond differently to different inputs or situations. Here are the main purposes of conditional statements:\n",
        "\n",
        "**Decision Making:** They allow the program to take different actions based on different conditions. For example, if a user is logged in, show their profile; otherwise, prompt them to log in.\n",
        "\n",
        "**Flow Control:** They control the flow of the program, ensuring that certain code runs only when specific conditions are met. This helps in managing complex logic and improving code readability.\n",
        "\n",
        "\n",
        "---\n",
        "\n",
        "\n",
        "12.** How does the elif statement work?**\n",
        "Ans.\n",
        "In Python, the elif statement is short for \"else if.\" It allows you to check multiple expressions for True and execute a block of code as soon as one of the conditions is True. It's used in conjunction with if and else statements to handle multiple conditions.\n",
        "\n",
        "\n",
        "---\n",
        "\n",
        "\n",
        "13.**What is the difference between for and while loops?**\n",
        "Ans.\n",
        "\n",
        "**A for loop** is used when you know in advance how many times you want to execute the block of code.\n",
        "\n",
        "It iterates over a sequence (e.g., a list, tuple, string, or range) and executes the block of code for each item in the sequence. The loop variable takes the value of each item in the sequence during each iteration.\n",
        "\n",
        "**A while loop **is used when you don’t know in advance how many times you want to execute the block of code. It continues to execute as long as the specified condition is true. It’s important to make sure that the condition eventually becomes false; otherwise, the loop will run indefinitely, resulting in an infinite loop.\n",
        "\n",
        "\n",
        "---\n",
        "\n",
        "\n",
        "14.**Describe a scenario where a while loop is more suitable than a for loop.?**\n",
        "\n",
        "ANS:\n",
        "Both for loops and while loops are control flow structures in programming that allow you to repeatedly execute a block of code. However, they differ in their syntax and use cases.\n"
      ],
      "metadata": {
        "id": "T82osCwDc4U2"
      }
    },
    {
      "cell_type": "markdown",
      "source": [
        "**PRACTICAL QUESTIONS**\n",
        "\n",
        "---\n",
        "\n",
        "\n",
        "\n",
        "---\n",
        "\n",
        "\n",
        "\n",
        "\n",
        "\n",
        "\n",
        "\n",
        "\n",
        "\n",
        "\n",
        "\n"
      ],
      "metadata": {
        "id": "3QlmTkYFGAv2"
      }
    },
    {
      "cell_type": "code",
      "source": [
        "# 1. Write a Python program to print \"Hello, World!"
      ],
      "metadata": {
        "id": "bR3TS4n9GdWW"
      },
      "execution_count": null,
      "outputs": []
    },
    {
      "cell_type": "code",
      "source": [
        "print(\"Hello, World!\")"
      ],
      "metadata": {
        "colab": {
          "base_uri": "https://localhost:8080/"
        },
        "id": "r8VnUldkZAlF",
        "outputId": "37db8caa-bc68-4d97-91d9-d775ad4eaff8"
      },
      "execution_count": null,
      "outputs": [
        {
          "output_type": "stream",
          "name": "stdout",
          "text": [
            "Hello, World!\n"
          ]
        }
      ]
    },
    {
      "cell_type": "code",
      "source": [
        "#2. Write a Python program that displays your name and age."
      ],
      "metadata": {
        "id": "ok7O6xSPGwqe"
      },
      "execution_count": null,
      "outputs": []
    },
    {
      "cell_type": "code",
      "source": [
        "name=\"Menka kumari\"\n",
        "age= 27\n",
        "print(name )\n",
        "print(age)"
      ],
      "metadata": {
        "colab": {
          "base_uri": "https://localhost:8080/"
        },
        "id": "tKsvYzsnG4Pp",
        "outputId": "98accdb0-3473-4f45-ac99-84c5ed7584b4"
      },
      "execution_count": null,
      "outputs": [
        {
          "output_type": "stream",
          "name": "stdout",
          "text": [
            "Menka kumari\n",
            "27\n"
          ]
        }
      ]
    },
    {
      "cell_type": "code",
      "source": [
        "# 3.Write code to print all the pre-defined keywords in Python using the keyword library."
      ],
      "metadata": {
        "id": "ggXkv78xHhRS"
      },
      "execution_count": null,
      "outputs": []
    },
    {
      "cell_type": "code",
      "source": [
        "import keyword\n",
        "#print all pre defined keywords in python\n",
        "print(keyword.kwlist)"
      ],
      "metadata": {
        "colab": {
          "base_uri": "https://localhost:8080/"
        },
        "id": "FUFAMtlvIsB4",
        "outputId": "a9babee1-aea9-470e-f32d-88b2281127b9"
      },
      "execution_count": 1,
      "outputs": [
        {
          "output_type": "stream",
          "name": "stdout",
          "text": [
            "['False', 'None', 'True', 'and', 'as', 'assert', 'async', 'await', 'break', 'class', 'continue', 'def', 'del', 'elif', 'else', 'except', 'finally', 'for', 'from', 'global', 'if', 'import', 'in', 'is', 'lambda', 'nonlocal', 'not', 'or', 'pass', 'raise', 'return', 'try', 'while', 'with', 'yield']\n"
          ]
        }
      ]
    },
    {
      "cell_type": "code",
      "source": [
        "4.# Write a program that checks if a given word is a Python keyword .\n",
        "import keyword\n",
        "# funtion to check if a given word is python keyword\n",
        "def is_python_keyword(word):\n",
        "  return keyword.iskeyword(word)\n",
        "\n",
        "# input: ask the user to enter a word\n",
        "word=input(\"enter a word to check if it is a python keyword:\")\n",
        "# check\n",
        "if is_python_keyword(word):\n",
        "  print(f\"'{word}'is a python keyword\")\n",
        "else:\n",
        "    print(f\"'{word}'is not a python keyword.\")\n",
        "\n"
      ],
      "metadata": {
        "colab": {
          "base_uri": "https://localhost:8080/"
        },
        "id": "A9-lq6WrIwoq",
        "outputId": "23a5cb84-fd7b-47b0-ecc5-844f2fba58a7"
      },
      "execution_count": 3,
      "outputs": [
        {
          "output_type": "stream",
          "name": "stdout",
          "text": [
            "enter a word to check if it is a python keyword:del\n",
            "'del'is a python keyword\n"
          ]
        }
      ]
    },
    {
      "cell_type": "code",
      "source": [
        " # 5.Create a list and tuple in Python, and demonstrate how attempting to change an element works differently  for each\n",
        " # creating a list\n",
        " my_list = [1,2,3,4,5]\n",
        " # creting a tuple\n",
        " my_tuple =(1,2,3,4,5)\n",
        " # try to change an element in the list\n",
        " my_list[0]=10\n",
        " print(\"list after change:\",my_list)\n",
        "\n"
      ],
      "metadata": {
        "colab": {
          "base_uri": "https://localhost:8080/"
        },
        "id": "NJA3-bx2LOL1",
        "outputId": "e3bf9753-3537-47cb-84c5-c3d6b90db4ac"
      },
      "execution_count": null,
      "outputs": [
        {
          "output_type": "stream",
          "name": "stdout",
          "text": [
            "list after change: [10, 2, 3, 4, 5]\n"
          ]
        }
      ]
    },
    {
      "cell_type": "code",
      "source": [
        "# try to change a tuple    # attempting to change tuple causes error\n",
        "my_tuple[0]=20\n",
        "print(\"tuple after change:\", my_tuple)\n",
        "\n"
      ],
      "metadata": {
        "colab": {
          "base_uri": "https://localhost:8080/",
          "height": 200
        },
        "id": "_QPcnExnNsMA",
        "outputId": "d2f48882-b3af-47a1-ae89-cc4a8fc51309"
      },
      "execution_count": 4,
      "outputs": [
        {
          "output_type": "error",
          "ename": "NameError",
          "evalue": "name 'my_tuple' is not defined",
          "traceback": [
            "\u001b[0;31m---------------------------------------------------------------------------\u001b[0m",
            "\u001b[0;31mNameError\u001b[0m                                 Traceback (most recent call last)",
            "\u001b[0;32m<ipython-input-4-be3b3eb409ee>\u001b[0m in \u001b[0;36m<cell line: 2>\u001b[0;34m()\u001b[0m\n\u001b[1;32m      1\u001b[0m \u001b[0;31m# try to change a tuple\u001b[0m\u001b[0;34m\u001b[0m\u001b[0;34m\u001b[0m\u001b[0m\n\u001b[0;32m----> 2\u001b[0;31m \u001b[0mmy_tuple\u001b[0m\u001b[0;34m[\u001b[0m\u001b[0;36m0\u001b[0m\u001b[0;34m]\u001b[0m\u001b[0;34m=\u001b[0m\u001b[0;36m20\u001b[0m\u001b[0;34m\u001b[0m\u001b[0;34m\u001b[0m\u001b[0m\n\u001b[0m\u001b[1;32m      3\u001b[0m \u001b[0mprint\u001b[0m\u001b[0;34m(\u001b[0m\u001b[0;34m\"tuple after change:\"\u001b[0m\u001b[0;34m,\u001b[0m \u001b[0mmy_tuple\u001b[0m\u001b[0;34m)\u001b[0m\u001b[0;34m\u001b[0m\u001b[0;34m\u001b[0m\u001b[0m\n\u001b[1;32m      4\u001b[0m \u001b[0;34m\u001b[0m\u001b[0m\n",
            "\u001b[0;31mNameError\u001b[0m: name 'my_tuple' is not defined"
          ]
        }
      ]
    },
    {
      "cell_type": "code",
      "source": [
        " # 6. Write a function to demonstrate the behavior of mutable and immutable arguments\n",
        " def demonstrate_mutable_immutable(mutable_arg, immutable_arg):\n",
        "  # modifying the mutable argument(list)\n",
        "  mutable_arg.append(100)  # this will modify the list\n",
        "\n",
        "  # attempting to modify the immutable argument(integer)\n",
        "  # this wnt change the original integer, but will create a new integer\n",
        "  immutable_argu +=50\n",
        "  # printing the result\n",
        "  print(\"inside funtion - mutable argument(list):\",mutable_arg)\n",
        "  print(\"inside function _immutable argu(integer):\",imutable_arg)\n",
        "\n",
        "  lst.append(4)\n"
      ],
      "metadata": {
        "id": "6900DAEzOhuk"
      },
      "execution_count": 5,
      "outputs": []
    },
    {
      "cell_type": "code",
      "source": [
        "# 8.Write a program to demonstrate the use of logical operator.\n",
        "# input values for demonstration\n",
        "a=10\n",
        "b=5\n",
        "c=20\n",
        "#using and logical operator\n",
        "if a>b and c>a:\n",
        "  print(\"both conditions are true\")\n",
        "else:\n",
        "    print('atleast one codition is false in nature')\n"
      ],
      "metadata": {
        "colab": {
          "base_uri": "https://localhost:8080/"
        },
        "id": "_X6UgUIbehk2",
        "outputId": "2f275a6b-f6dc-499a-8481-ebe12f97c625"
      },
      "execution_count": 6,
      "outputs": [
        {
          "output_type": "stream",
          "name": "stdout",
          "text": [
            "both conditions are true\n"
          ]
        }
      ]
    },
    {
      "cell_type": "code",
      "source": [
        "# 9.Write a Python program to convert user input from string to integer, float, and boolean types'\n",
        "# function to convert string to integer.\n",
        "def convert_input(user_input):\n",
        "  try:\n",
        "    int_value=int(user_input)\n",
        "    print(f\"Integer:{int_value}\")\n",
        "  except ValueError:\n",
        "    print(\"invalid input.please enter a valid integer.\")\n",
        "# convert to float\n",
        "def convert_input(user_input):\n",
        "  try:\n",
        "    float_value=float(user_input)\n",
        "    print(f\"Float:{float_value}\")\n",
        "  except ValueError:\n",
        "    print(\"invalid input.please enter a valid float.\")\n",
        "\n",
        "\n"
      ],
      "metadata": {
        "colab": {
          "base_uri": "https://localhost:8080/",
          "height": 200
        },
        "id": "YIRmeQLUFLX1",
        "outputId": "3338cb84-2908-4174-c442-b96692070572"
      },
      "execution_count": 14,
      "outputs": [
        {
          "name": "stdout",
          "output_type": "stream",
          "text": [
            "enter a value\"12\"\n"
          ]
        },
        {
          "output_type": "error",
          "ename": "ValueError",
          "evalue": "invalid literal for int() with base 10: '\"12\"'",
          "traceback": [
            "\u001b[0;31m---------------------------------------------------------------------------\u001b[0m",
            "\u001b[0;31mValueError\u001b[0m                                Traceback (most recent call last)",
            "\u001b[0;32m<ipython-input-14-59e311a2f2d7>\u001b[0m in \u001b[0;36m<cell line: 18>\u001b[0;34m()\u001b[0m\n\u001b[1;32m     16\u001b[0m \u001b[0;34m\u001b[0m\u001b[0m\n\u001b[1;32m     17\u001b[0m \u001b[0;31m# example:\u001b[0m\u001b[0;34m\u001b[0m\u001b[0;34m\u001b[0m\u001b[0m\n\u001b[0;32m---> 18\u001b[0;31m \u001b[0muser_input\u001b[0m\u001b[0;34m=\u001b[0m\u001b[0;34m(\u001b[0m\u001b[0mint\u001b[0m\u001b[0;34m(\u001b[0m\u001b[0minput\u001b[0m\u001b[0;34m(\u001b[0m\u001b[0;34m\"enter a value\"\u001b[0m\u001b[0;34m)\u001b[0m\u001b[0;34m)\u001b[0m\u001b[0;34m)\u001b[0m\u001b[0;34m\u001b[0m\u001b[0;34m\u001b[0m\u001b[0m\n\u001b[0m",
            "\u001b[0;31mValueError\u001b[0m: invalid literal for int() with base 10: '\"12\"'"
          ]
        }
      ]
    },
    {
      "cell_type": "code",
      "source": [
        "#10.Write code to demonstrate type casting with list elements.\n",
        "# original list with elements of different types.\n",
        "original_list=[\"123\",\"45.67\",\"True\",\"0\",\"3.14\",\"False\",\"1\"]\n",
        "#convert element to integers\n",
        "int_list=[int(float(x)) if x.replace(\".\",\"\",1).isdigit() else 0 for x in original_list]\n",
        "# convert elements to floats\n",
        "float_list=[float(x) if x .replace(\".\",\"\",1).isdigit() else 0.0 for x in original_list]"
      ],
      "metadata": {
        "id": "Yixr91rPgzcO"
      },
      "execution_count": 15,
      "outputs": []
    },
    {
      "cell_type": "code",
      "source": [
        "#11.Write a program that checks if a number is positive, negative, or zero\n",
        "def check_number(number):\n",
        "  if number>0:\n",
        "    print(f\"{number} is a positive number\")\n",
        "  elif number<0:\n",
        "    print(f'{number} is a negative number')\n",
        "  else:\n",
        "      print(\"the number is zero\")"
      ],
      "metadata": {
        "id": "_b3k8Tj1vYTO"
      },
      "execution_count": 17,
      "outputs": []
    },
    {
      "cell_type": "code",
      "source": [
        "#15. Write a Python program to calculate the factorial of a number provided by the user using a while loop.\n",
        "# get input from the user\n",
        "a=int(input(\"enetr the number to calculate its factorial:\"))\n",
        "# check if the number is negative\n",
        "factorial=1\n",
        "if a <0:\n",
        "  print(\"factorial is not defined for negative number.\")\n",
        "else:\n",
        "  # use while loop to calculate the factorial\n",
        "  while a>1:\n",
        "    factorial *= a\n",
        "    a-=1\n",
        "  print (\"the factorial is:\",factorial)\n",
        "\n",
        "\n"
      ],
      "metadata": {
        "colab": {
          "base_uri": "https://localhost:8080/"
        },
        "id": "2KqEXfYkiMRP",
        "outputId": "fc15a74d-6aea-4098-889a-5c2e8247c601"
      },
      "execution_count": null,
      "outputs": [
        {
          "output_type": "stream",
          "name": "stdout",
          "text": [
            "enetr the number to calculate its factorial:5\n",
            "the factorial is: 120\n"
          ]
        }
      ]
    },
    {
      "cell_type": "code",
      "source": [
        "# 13.Write a Python program to find the sum of all even numbers between 1 and 50."
      ],
      "metadata": {
        "id": "32CLVMx5mGP2"
      },
      "execution_count": null,
      "outputs": []
    },
    {
      "cell_type": "code",
      "source": [
        "sum_even=0\n",
        "for num in range(1,51):\n",
        "  if num%2==0:\n",
        "    sum_even += num\n",
        "print(\"the sum of all even numbers between is:\" ,sum_even)"
      ],
      "metadata": {
        "colab": {
          "base_uri": "https://localhost:8080/"
        },
        "id": "mhwL2gTGlTnh",
        "outputId": "20a9bca8-cf1b-4c41-adde-bff2e451a682"
      },
      "execution_count": null,
      "outputs": [
        {
          "output_type": "stream",
          "name": "stdout",
          "text": [
            "the sum of all even numbers between is: 650\n"
          ]
        }
      ]
    },
    {
      "cell_type": "code",
      "source": [
        " # 12.Write a for loop to print numbers from 1 to 10\n",
        " # loop through numbers from 1 to 10\n",
        " for num in range(1,11):\n",
        "  print(num)"
      ],
      "metadata": {
        "colab": {
          "base_uri": "https://localhost:8080/"
        },
        "id": "m8xe1fX3nbWP",
        "outputId": "e8a5983f-de75-439f-f214-d814bd581b22"
      },
      "execution_count": null,
      "outputs": [
        {
          "output_type": "stream",
          "name": "stdout",
          "text": [
            "1\n",
            "2\n",
            "3\n",
            "4\n",
            "5\n",
            "6\n",
            "7\n",
            "8\n",
            "9\n",
            "10\n"
          ]
        }
      ]
    },
    {
      "cell_type": "code",
      "source": [],
      "metadata": {
        "id": "Mn6AGtlkqvS9"
      },
      "execution_count": null,
      "outputs": []
    }
  ]
}